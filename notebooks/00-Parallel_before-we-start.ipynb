{
 "cells": [
  {
   "cell_type": "markdown",
   "metadata": {},
   "source": [
    "Scaling Scientific Data Analysis in Python\n",
    "=======================\n",
    "\n",
    "\n",
    "### Requirements\n",
    "\n",
    "* Pandas\n",
    "* concurrent.futures (standard in Python 3, `pip install futures` in Python 2)\n",
    "* snakeviz (for profile visualization, `pip install snakeviz==0.4.1`)\n",
    "* Dask `pip install dask[complete]` \n",
    "\n",
    "**Dependencies**: tables toolz pandas_datareader\n",
    "\n",
    "**Note:** For better compatibility, prefer creating a conda environment from the environment.yml file. Alternatively there's also a requirements.txt file, which can install all dependencies in your virtualenv (`pip install -r requirements.txt`)\n",
    "\n",
    "### Objective\n",
    "Be sure the commands below run without problems and you will be able to see the Snakeviz plot with several layers. **It is a requirement for being able to follow the tutorial.**"
   ]
  },
  {
   "cell_type": "markdown",
   "metadata": {},
   "source": [
    "## Before we start\n",
    "\n",
    "We need to get some data to work with.\n",
    "We generate some fake stock data by adding a bunch of points between real stock data points. This will take a few minutes the first time we run it."
   ]
  },
  {
   "cell_type": "code",
   "execution_count": 2,
   "metadata": {},
   "outputs": [],
   "source": [
    "%run ../prep.py"
   ]
  },
  {
   "cell_type": "markdown",
   "metadata": {},
   "source": [
    "## Sequential Execution"
   ]
  },
  {
   "cell_type": "code",
   "execution_count": 1,
   "metadata": {},
   "outputs": [
    {
     "data": {
      "text/plain": [
       "['../data/json/afl.json',\n",
       " '../data/json/aig.json',\n",
       " '../data/json/al.json',\n",
       " '../data/json/avy.json',\n",
       " '../data/json/bwa.json']"
      ]
     },
     "execution_count": 1,
     "metadata": {},
     "output_type": "execute_result"
    }
   ],
   "source": [
    "%load_ext snakeviz\n",
    "from glob import glob\n",
    "import json\n",
    "import pandas as pd\n",
    "import os\n",
    "\n",
    "filenames = sorted(glob(os.path.join('..', 'data', 'json', '*.json')))  # ../data/json/*.json\n",
    "filenames[:5]"
   ]
  },
  {
   "cell_type": "code",
   "execution_count": 2,
   "metadata": {},
   "outputs": [
    {
     "name": "stdout",
     "output_type": "stream",
     "text": [
      "../data/json/afl.json\n"
     ]
    },
    {
     "name": "stderr",
     "output_type": "stream",
     "text": [
      "/Users/leite/dev/parallel-tutorial/ptest/lib/python2.7/site-packages/pandas/io/pytables.py:280: PerformanceWarning: \n",
      "your performance may suffer as PyTables will pickle object types that it cannot\n",
      "map directly to c-types [inferred_type->unicode,key->axis0] [items->None]\n",
      "\n",
      "  f(store)\n",
      "/Users/leite/dev/parallel-tutorial/ptest/lib/python2.7/site-packages/pandas/io/pytables.py:280: PerformanceWarning: \n",
      "your performance may suffer as PyTables will pickle object types that it cannot\n",
      "map directly to c-types [inferred_type->unicode,key->block0_items] [items->None]\n",
      "\n",
      "  f(store)\n",
      "/Users/leite/dev/parallel-tutorial/ptest/lib/python2.7/site-packages/pandas/core/generic.py:1299: PerformanceWarning: \n",
      "your performance may suffer as PyTables will pickle object types that it cannot\n",
      "map directly to c-types [inferred_type->unicode,key->block1_values] [items->[u'timestamp']]\n",
      "\n",
      "  return pytables.to_hdf(path_or_buf, key, self, **kwargs)\n",
      "/Users/leite/dev/parallel-tutorial/ptest/lib/python2.7/site-packages/pandas/io/pytables.py:280: PerformanceWarning: \n",
      "your performance may suffer as PyTables will pickle object types that it cannot\n",
      "map directly to c-types [inferred_type->unicode,key->block1_items] [items->None]\n",
      "\n",
      "  f(store)\n"
     ]
    },
    {
     "name": "stdout",
     "output_type": "stream",
     "text": [
      "../data/json/aig.json\n",
      "../data/json/al.json\n",
      "../data/json/avy.json\n",
      "../data/json/bwa.json\n",
      "../data/json/hal.json\n",
      "../data/json/hp.json\n",
      "../data/json/hpq.json\n",
      "../data/json/ibm.json\n",
      "../data/json/jbl.json\n",
      "../data/json/jpm.json\n",
      "../data/json/luv.json\n",
      "../data/json/pcg.json\n",
      "../data/json/usb.json\n",
      " \n",
      "*** Profile stats marshalled to file u'/var/folders/tt/nxzmt8xd701cq_x0rp1n1hk8005dxz/T/tmp4OaAuu'. \n"
     ]
    }
   ],
   "source": [
    "%%snakeviz\n",
    "\n",
    "for fn in filenames:\n",
    "    print(fn)\n",
    "    with open(fn) as f:\n",
    "        data = [json.loads(line) for line in f]\n",
    "        \n",
    "    df = pd.DataFrame(data)\n",
    "    \n",
    "    out_filename = fn[:-5] + '.h5'\n",
    "    df.to_hdf(out_filename, '/data')"
   ]
  },
  {
   "cell_type": "code",
   "execution_count": null,
   "metadata": {},
   "outputs": [],
   "source": []
  }
 ],
 "metadata": {
  "kernelspec": {
   "display_name": "Python 2",
   "language": "python",
   "name": "python2"
  },
  "language_info": {
   "codemirror_mode": {
    "name": "ipython",
    "version": 2
   },
   "file_extension": ".py",
   "mimetype": "text/x-python",
   "name": "python",
   "nbconvert_exporter": "python",
   "pygments_lexer": "ipython2",
   "version": "2.7.10"
  }
 },
 "nbformat": 4,
 "nbformat_minor": 2
}
